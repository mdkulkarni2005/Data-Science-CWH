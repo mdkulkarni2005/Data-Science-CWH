{
 "cells": [
  {
   "cell_type": "code",
   "execution_count": 6,
   "id": "1da68ee3-07f7-431a-b389-f86f1767f70c",
   "metadata": {},
   "outputs": [],
   "source": [
    "import pandas as pd"
   ]
  },
  {
   "cell_type": "code",
   "execution_count": 18,
   "id": "62c7ba81-08ea-40f7-97a2-9898fc55856a",
   "metadata": {},
   "outputs": [],
   "source": [
    "s1 = pd.Series([71, 84, 56, 23, 56, 95, 56])"
   ]
  },
  {
   "cell_type": "code",
   "execution_count": 14,
   "id": "c0838c9a-90c9-45cb-8a52-820957c085bb",
   "metadata": {},
   "outputs": [
    {
     "data": {
      "text/plain": [
       "pandas.core.series.Series"
      ]
     },
     "execution_count": 14,
     "metadata": {},
     "output_type": "execute_result"
    }
   ],
   "source": [
    "type(s)"
   ]
  },
  {
   "cell_type": "code",
   "execution_count": 16,
   "id": "1a789555-54a5-483c-83a6-48eb49c3163f",
   "metadata": {},
   "outputs": [
    {
     "name": "stdout",
     "output_type": "stream",
     "text": [
      "0    71\n",
      "1    84\n",
      "2    56\n",
      "3    23\n",
      "4    56\n",
      "5    95\n",
      "6    56\n",
      "dtype: int64\n"
     ]
    }
   ],
   "source": [
    "print(s)"
   ]
  },
  {
   "cell_type": "code",
   "execution_count": 20,
   "id": "dc24c489-0fdd-43f8-8391-7b5f18cceda4",
   "metadata": {},
   "outputs": [],
   "source": [
    "s2 = pd.Series([71, 84, 56, 23, 56, 95, 56], index=[\"Harry\", \"Shubh\", \"Rohan\", \"Aakash\", \"Kirti\", \"John\", \"Rehan\"])"
   ]
  },
  {
   "cell_type": "code",
   "execution_count": 22,
   "id": "2338ba74-8699-4225-82f9-e804cb79c214",
   "metadata": {},
   "outputs": [
    {
     "data": {
      "text/plain": [
       "Harry     71\n",
       "Shubh     84\n",
       "Rohan     56\n",
       "Aakash    23\n",
       "Kirti     56\n",
       "John      95\n",
       "Rehan     56\n",
       "dtype: int64"
      ]
     },
     "execution_count": 22,
     "metadata": {},
     "output_type": "execute_result"
    }
   ],
   "source": [
    "s2"
   ]
  }
 ],
 "metadata": {
  "kernelspec": {
   "display_name": "Python [conda env:base] *",
   "language": "python",
   "name": "conda-base-py"
  },
  "language_info": {
   "codemirror_mode": {
    "name": "ipython",
    "version": 3
   },
   "file_extension": ".py",
   "mimetype": "text/x-python",
   "name": "python",
   "nbconvert_exporter": "python",
   "pygments_lexer": "ipython3",
   "version": "3.12.7"
  }
 },
 "nbformat": 4,
 "nbformat_minor": 5
}
