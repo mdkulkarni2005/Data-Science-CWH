import pandas as pd


data= [['harr', 34], 
