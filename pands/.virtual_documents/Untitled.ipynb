import pandas as pd
df = pd.read_csv("data_cleaning_sample.csv")


df


df.isnull()


df.isnull().sum()


df.dropna()


df.dropna(axis=1)


df.fillna(0)



