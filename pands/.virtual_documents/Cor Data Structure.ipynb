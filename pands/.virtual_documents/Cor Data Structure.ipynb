import pandas as pd


s1 = pd.Series([71, 84, 56, 23, 56, 95, 56])


type(s)


print(s)


s2 = pd.Series([71, 84, 56, 23, 56, 95, 56], index=["Harry", "Shubh", "Rohan", "Aakash", "Kirti", "John", "Rehan"])


s2
