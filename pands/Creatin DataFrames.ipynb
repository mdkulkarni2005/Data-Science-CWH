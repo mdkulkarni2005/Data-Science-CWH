{
 "cells": [
  {
   "cell_type": "code",
   "execution_count": 2,
   "id": "985bfd81-ba6d-4d7c-9d44-5543b1d99865",
   "metadata": {},
   "outputs": [],
   "source": [
    "import pandas as pd"
   ]
  },
  {
   "cell_type": "code",
   "execution_count": null,
   "id": "ae776dcf-0a5a-4f35-a5d2-d6b23b454d99",
   "metadata": {},
   "outputs": [],
   "source": [
    "data= [['harr', 34], "
   ]
  }
 ],
 "metadata": {
  "kernelspec": {
   "display_name": "Python [conda env:base] *",
   "language": "python",
   "name": "conda-base-py"
  },
  "language_info": {
   "codemirror_mode": {
    "name": "ipython",
    "version": 3
   },
   "file_extension": ".py",
   "mimetype": "text/x-python",
   "name": "python",
   "nbconvert_exporter": "python",
   "pygments_lexer": "ipython3",
   "version": "3.12.7"
  }
 },
 "nbformat": 4,
 "nbformat_minor": 5
}
