{
 "cells": [
  {
   "cell_type": "code",
   "execution_count": 6,
   "id": "6400ff95-dfe2-4349-9765-e034e43acb64",
   "metadata": {},
   "outputs": [],
   "source": [
    "import numpy as np"
   ]
  },
  {
   "cell_type": "code",
   "execution_count": 8,
   "id": "77a5eabb-2eda-4e46-8660-ce993f379ef6",
   "metadata": {},
   "outputs": [],
   "source": [
    "arr = np.array([23, 4, 3, 23])"
   ]
  },
  {
   "cell_type": "code",
   "execution_count": 10,
   "id": "ebb2060c-3c08-4c0d-8d21-ff858b125723",
   "metadata": {},
   "outputs": [
    {
     "data": {
      "text/plain": [
       "dtype('int64')"
      ]
     },
     "execution_count": 10,
     "metadata": {},
     "output_type": "execute_result"
    }
   ],
   "source": [
    "arr.dtype"
   ]
  },
  {
   "cell_type": "code",
   "execution_count": 12,
   "id": "5b74c1ef-a2f1-4a1e-86e4-e3dc4e69c254",
   "metadata": {},
   "outputs": [
    {
     "data": {
      "text/plain": [
       "array([23.,  4.,  3., 23.])"
      ]
     },
     "execution_count": 12,
     "metadata": {},
     "output_type": "execute_result"
    }
   ],
   "source": [
    "arr.astype(\"float64\")"
   ]
  },
  {
   "cell_type": "code",
   "execution_count": 18,
   "id": "97bba875-6f49-4b07-a66c-af302c5d4227",
   "metadata": {},
   "outputs": [],
   "source": [
    "arr2 = np.array([23, 2, 3, 32], dtype=\"float32\")"
   ]
  },
  {
   "cell_type": "code",
   "execution_count": 20,
   "id": "fcf4ae36-5684-40e2-b57d-e392a894b3a4",
   "metadata": {},
   "outputs": [
    {
     "data": {
      "text/plain": [
       "array([23.,  2.,  3., 32.], dtype=float32)"
      ]
     },
     "execution_count": 20,
     "metadata": {},
     "output_type": "execute_result"
    }
   ],
   "source": [
    "arr2"
   ]
  }
 ],
 "metadata": {
  "kernelspec": {
   "display_name": "Python [conda env:base] *",
   "language": "python",
   "name": "conda-base-py"
  },
  "language_info": {
   "codemirror_mode": {
    "name": "ipython",
    "version": 3
   },
   "file_extension": ".py",
   "mimetype": "text/x-python",
   "name": "python",
   "nbconvert_exporter": "python",
   "pygments_lexer": "ipython3",
   "version": "3.12.7"
  }
 },
 "nbformat": 4,
 "nbformat_minor": 5
}
