{
 "cells": [
  {
   "cell_type": "code",
   "execution_count": 36,
   "id": "1f404c6f-9f58-4cbb-9d7d-916bb9e8c088",
   "metadata": {},
   "outputs": [
    {
     "name": "stdout",
     "output_type": "stream",
     "text": [
      "0.040090084075927734\n"
     ]
    }
   ],
   "source": [
    "# using python list\n",
    "\n",
    "import numpy as np\n",
    "import time\n",
    "\n",
    "size = 1_000_000\n",
    "\n",
    "l1 = list(range(size))\n",
    "l2 = list(range(size))\n",
    "\n",
    "start = time.time()\n",
    "add  = [x+y for x,y in zip(l1, l2)]\n",
    "end = time.time()\n",
    "\n",
    "print (end- start)"
   ]
  },
  {
   "cell_type": "code",
   "execution_count": 40,
   "id": "584eaf97-fec9-4d24-8a8f-f58750440783",
   "metadata": {},
   "outputs": [
    {
     "name": "stdout",
     "output_type": "stream",
     "text": [
      "0.010449886322021484\n"
     ]
    }
   ],
   "source": [
    "# using Numpy\n",
    "import numpy as np\n",
    "import time\n",
    "\n",
    "size = 1_000_000\n",
    "\n",
    "l1 = np.array(list(range(size)))\n",
    "l2 = np.array(list(range(size)))\n",
    "\n",
    "start = time.time()\n",
    "add  = l1 + l2\n",
    "end = time.time()\n",
    "\n",
    "print (end- start)"
   ]
  },
  {
   "cell_type": "code",
   "execution_count": 26,
   "id": "6932b721-d060-49f6-b4d2-7ea5f9a51265",
   "metadata": {},
   "outputs": [],
   "source": [
    "l1 = [1, 2, 4]"
   ]
  },
  {
   "cell_type": "code",
   "execution_count": 30,
   "id": "4ab77552-79e3-4039-8371-291ff01b924f",
   "metadata": {},
   "outputs": [],
   "source": [
    "l2 = [6, 7, 8]"
   ]
  },
  {
   "cell_type": "code",
   "execution_count": 32,
   "id": "132693ff-d161-4722-a4a0-02b2172ed131",
   "metadata": {},
   "outputs": [
    {
     "data": {
      "text/plain": [
       "[(1, 6), (2, 7), (4, 8)]"
      ]
     },
     "execution_count": 32,
     "metadata": {},
     "output_type": "execute_result"
    }
   ],
   "source": [
    "list(zip(l1,l2))"
   ]
  }
 ],
 "metadata": {
  "kernelspec": {
   "display_name": "Python [conda env:base] *",
   "language": "python",
   "name": "conda-base-py"
  },
  "language_info": {
   "codemirror_mode": {
    "name": "ipython",
    "version": 3
   },
   "file_extension": ".py",
   "mimetype": "text/x-python",
   "name": "python",
   "nbconvert_exporter": "python",
   "pygments_lexer": "ipython3",
   "version": "3.12.7"
  }
 },
 "nbformat": 4,
 "nbformat_minor": 5
}
